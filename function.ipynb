{
 "cells": [
  {
   "cell_type": "code",
   "execution_count": null,
   "metadata": {},
   "outputs": [],
   "source": [
    "# optional Parameter kann nur am Ende der Funktionsschnittstelle stehen dürfen\n",
    "\n",
    "# def add(a=0, b, c, d): hier ist nicht korrekt\n",
    "    # pass\n",
    "\n",
    "def summe(a, b, c=0, d=0): # korrekt\n",
    "    pass"
   ]
  },
  {
   "cell_type": "code",
   "execution_count": 1,
   "metadata": {},
   "outputs": [
    {
     "name": "stdout",
     "output_type": "stream",
     "text": [
      "1 2\n",
      "('Hello', 42, [1, 2, 3, 4])\n"
     ]
    }
   ],
   "source": [
    "# beliebige Anzahl von Parameter\n",
    "\n",
    "def funktion(a, b, *weitere): # weitere mit * ein Tupel wird referenziert\n",
    "    print(a, b)\n",
    "    print(weitere)\n",
    "\n",
    "funktion(1, 2, \"Hello\", 42, [1, 2, 3, 4])"
   ]
  },
  {
   "cell_type": "code",
   "execution_count": 3,
   "metadata": {},
   "outputs": [
    {
     "name": "stdout",
     "output_type": "stream",
     "text": [
      "1 2\n",
      "{'jan': 'erste', 'john': 'zweite'}\n"
     ]
    }
   ],
   "source": [
    "def funktion(a, b, **weitere):\n",
    "    print(a, b)\n",
    "    print(weitere)\n",
    "\n",
    "funktion(1, 2, jan=\"erste\", john=\"zweite\") # mit ** ein Dictionary wird referenziert"
   ]
  },
  {
   "cell_type": "code",
   "execution_count": 5,
   "metadata": {},
   "outputs": [
    {
     "data": {
      "text/plain": [
       "3"
      ]
     },
     "execution_count": 5,
     "metadata": {},
     "output_type": "execute_result"
    }
   ],
   "source": [
    "def sume(a, b):\n",
    "    return a + b\n",
    "\n",
    "sume(*[1, 2]) # mit * entpacken"
   ]
  },
  {
   "cell_type": "code",
   "execution_count": null,
   "metadata": {},
   "outputs": [],
   "source": []
  }
 ],
 "metadata": {
  "kernelspec": {
   "display_name": "base",
   "language": "python",
   "name": "python3"
  },
  "language_info": {
   "codemirror_mode": {
    "name": "ipython",
    "version": 3
   },
   "file_extension": ".py",
   "mimetype": "text/x-python",
   "name": "python",
   "nbconvert_exporter": "python",
   "pygments_lexer": "ipython3",
   "version": "3.9.13"
  },
  "orig_nbformat": 4
 },
 "nbformat": 4,
 "nbformat_minor": 2
}
